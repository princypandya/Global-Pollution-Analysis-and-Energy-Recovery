{
 "cells": [
  {
   "cell_type": "markdown",
   "id": "5211fac1",
   "metadata": {},
   "source": [
    "<h1>Objective :</h1>\n",
    "<h3> The goal is to analyze global pollution data and develop strategies for pollution reduction and converting pollutants into energy. The dataset will be used for both data preprocessing and building regression models to predict energy recovery from pollution levels</h3>"
   ]
  },
  {
   "cell_type": "markdown",
   "id": "079a3a72",
   "metadata": {},
   "source": [
    "<h1>Phase 1<br>Data Collection and Exploratory Data Analysis (EDA)</h1>contains 3 steps"
   ]
  },
  {
   "cell_type": "markdown",
   "id": "2d85e73c",
   "metadata": {},
   "source": [
    "<h3>Step 1 - Data Import and Preprocessing\n",
    "</h3>"
   ]
  },
  {
   "cell_type": "code",
   "execution_count": 1,
   "id": "49f4208b",
   "metadata": {},
   "outputs": [],
   "source": [
    "import math\n",
    "import numpy as np\n",
    "import pandas as pd\n",
    "import seaborn as sns\n",
    "import matplotlib.pyplot as plt\n",
    "from sklearn.preprocessing import StandardScaler, LabelBinarizer\n",
    "from sklearn.model_selection import train_test_split\n",
    "from sklearn.linear_model import LinearRegression\n",
    "from sklearn.linear_model import LogisticRegression\n",
    "from sklearn.metrics import mean_absolute_error, mean_squared_error, r2_score, accuracy_score, precision_score, recall_score, f1_score, confusion_matrix, ConfusionMatrixDisplay, roc_curve, auc, RocCurveDisplay\n",
    "from scipy import stats"
   ]
  },
  {
   "cell_type": "code",
   "execution_count": 2,
   "id": "f0814fff",
   "metadata": {},
   "outputs": [
    {
     "data": {
      "text/html": [
       "<div>\n",
       "<style scoped>\n",
       "    .dataframe tbody tr th:only-of-type {\n",
       "        vertical-align: middle;\n",
       "    }\n",
       "\n",
       "    .dataframe tbody tr th {\n",
       "        vertical-align: top;\n",
       "    }\n",
       "\n",
       "    .dataframe thead th {\n",
       "        text-align: right;\n",
       "    }\n",
       "</style>\n",
       "<table border=\"1\" class=\"dataframe\">\n",
       "  <thead>\n",
       "    <tr style=\"text-align: right;\">\n",
       "      <th></th>\n",
       "      <th>Country</th>\n",
       "      <th>Year</th>\n",
       "      <th>Air_Pollution_Index</th>\n",
       "      <th>Water_Pollution_Index</th>\n",
       "      <th>Soil_Pollution_Index</th>\n",
       "      <th>Industrial_Waste (in tons)</th>\n",
       "      <th>Energy_Recovered (in GWh)</th>\n",
       "      <th>CO2_Emissions (in MT)</th>\n",
       "      <th>Renewable_Energy (%)</th>\n",
       "      <th>Plastic_Waste_Produced (in tons)</th>\n",
       "      <th>Energy_Consumption_Per_Capita (in MWh)</th>\n",
       "      <th>Population (in millions)</th>\n",
       "      <th>GDP_Per_Capita (in USD)</th>\n",
       "    </tr>\n",
       "  </thead>\n",
       "  <tbody>\n",
       "    <tr>\n",
       "      <th>0</th>\n",
       "      <td>Hungary</td>\n",
       "      <td>2005</td>\n",
       "      <td>272.70</td>\n",
       "      <td>124.27</td>\n",
       "      <td>51.95</td>\n",
       "      <td>94802.83</td>\n",
       "      <td>158.14</td>\n",
       "      <td>5.30</td>\n",
       "      <td>41.11</td>\n",
       "      <td>37078.88</td>\n",
       "      <td>12.56</td>\n",
       "      <td>42.22</td>\n",
       "      <td>20972.96</td>\n",
       "    </tr>\n",
       "    <tr>\n",
       "      <th>1</th>\n",
       "      <td>Singapore</td>\n",
       "      <td>2001</td>\n",
       "      <td>86.72</td>\n",
       "      <td>60.34</td>\n",
       "      <td>117.22</td>\n",
       "      <td>56283.92</td>\n",
       "      <td>498.04</td>\n",
       "      <td>6.34</td>\n",
       "      <td>36.44</td>\n",
       "      <td>33128.20</td>\n",
       "      <td>5.23</td>\n",
       "      <td>137.25</td>\n",
       "      <td>34850.41</td>\n",
       "    </tr>\n",
       "    <tr>\n",
       "      <th>2</th>\n",
       "      <td>Romania</td>\n",
       "      <td>2016</td>\n",
       "      <td>91.59</td>\n",
       "      <td>83.36</td>\n",
       "      <td>121.72</td>\n",
       "      <td>56256.02</td>\n",
       "      <td>489.51</td>\n",
       "      <td>49.69</td>\n",
       "      <td>9.38</td>\n",
       "      <td>18803.46</td>\n",
       "      <td>13.15</td>\n",
       "      <td>124.47</td>\n",
       "      <td>57773.15</td>\n",
       "    </tr>\n",
       "    <tr>\n",
       "      <th>3</th>\n",
       "      <td>Cook Islands</td>\n",
       "      <td>2018</td>\n",
       "      <td>280.61</td>\n",
       "      <td>67.16</td>\n",
       "      <td>93.58</td>\n",
       "      <td>74864.73</td>\n",
       "      <td>145.18</td>\n",
       "      <td>8.91</td>\n",
       "      <td>18.97</td>\n",
       "      <td>9182.27</td>\n",
       "      <td>0.78</td>\n",
       "      <td>67.80</td>\n",
       "      <td>21837.51</td>\n",
       "    </tr>\n",
       "    <tr>\n",
       "      <th>4</th>\n",
       "      <td>Djibouti</td>\n",
       "      <td>2008</td>\n",
       "      <td>179.16</td>\n",
       "      <td>127.53</td>\n",
       "      <td>121.55</td>\n",
       "      <td>76862.06</td>\n",
       "      <td>40.38</td>\n",
       "      <td>14.93</td>\n",
       "      <td>34.00</td>\n",
       "      <td>39235.12</td>\n",
       "      <td>12.84</td>\n",
       "      <td>186.52</td>\n",
       "      <td>41379.37</td>\n",
       "    </tr>\n",
       "  </tbody>\n",
       "</table>\n",
       "</div>"
      ],
      "text/plain": [
       "        Country  Year  Air_Pollution_Index  Water_Pollution_Index  \\\n",
       "0       Hungary  2005               272.70                 124.27   \n",
       "1     Singapore  2001                86.72                  60.34   \n",
       "2       Romania  2016                91.59                  83.36   \n",
       "3  Cook Islands  2018               280.61                  67.16   \n",
       "4      Djibouti  2008               179.16                 127.53   \n",
       "\n",
       "   Soil_Pollution_Index  Industrial_Waste (in tons)  \\\n",
       "0                 51.95                    94802.83   \n",
       "1                117.22                    56283.92   \n",
       "2                121.72                    56256.02   \n",
       "3                 93.58                    74864.73   \n",
       "4                121.55                    76862.06   \n",
       "\n",
       "   Energy_Recovered (in GWh)  CO2_Emissions (in MT)  Renewable_Energy (%)  \\\n",
       "0                     158.14                   5.30                 41.11   \n",
       "1                     498.04                   6.34                 36.44   \n",
       "2                     489.51                  49.69                  9.38   \n",
       "3                     145.18                   8.91                 18.97   \n",
       "4                      40.38                  14.93                 34.00   \n",
       "\n",
       "   Plastic_Waste_Produced (in tons)  Energy_Consumption_Per_Capita (in MWh)  \\\n",
       "0                          37078.88                                   12.56   \n",
       "1                          33128.20                                    5.23   \n",
       "2                          18803.46                                   13.15   \n",
       "3                           9182.27                                    0.78   \n",
       "4                          39235.12                                   12.84   \n",
       "\n",
       "   Population (in millions)  GDP_Per_Capita (in USD)  \n",
       "0                     42.22                 20972.96  \n",
       "1                    137.25                 34850.41  \n",
       "2                    124.47                 57773.15  \n",
       "3                     67.80                 21837.51  \n",
       "4                    186.52                 41379.37  "
      ]
     },
     "execution_count": 2,
     "metadata": {},
     "output_type": "execute_result"
    }
   ],
   "source": [
    "data=pd.read_csv('Global_Pollution_Analysis.csv')\n",
    "d=data.copy()\n",
    "d.head()"
   ]
  },
  {
   "cell_type": "code",
   "execution_count": 3,
   "id": "6da8174d",
   "metadata": {},
   "outputs": [
    {
     "data": {
      "text/plain": [
       "Country                                   0\n",
       "Year                                      0\n",
       "Air_Pollution_Index                       0\n",
       "Water_Pollution_Index                     0\n",
       "Soil_Pollution_Index                      0\n",
       "Industrial_Waste (in tons)                0\n",
       "Energy_Recovered (in GWh)                 0\n",
       "CO2_Emissions (in MT)                     0\n",
       "Renewable_Energy (%)                      0\n",
       "Plastic_Waste_Produced (in tons)          0\n",
       "Energy_Consumption_Per_Capita (in MWh)    0\n",
       "Population (in millions)                  0\n",
       "GDP_Per_Capita (in USD)                   0\n",
       "dtype: int64"
      ]
     },
     "execution_count": 3,
     "metadata": {},
     "output_type": "execute_result"
    }
   ],
   "source": [
    "d.isnull().sum()"
   ]
  },
  {
   "cell_type": "markdown",
   "id": "923b2bed",
   "metadata": {},
   "source": [
    "Null values do not exist in any column<br>\n",
    "Now checking for incorrect data"
   ]
  },
  {
   "cell_type": "markdown",
   "id": "14c05f80",
   "metadata": {},
   "source": []
  }
 ],
 "metadata": {
  "kernelspec": {
   "display_name": ".venv",
   "language": "python",
   "name": "python3"
  },
  "language_info": {
   "codemirror_mode": {
    "name": "ipython",
    "version": 3
   },
   "file_extension": ".py",
   "mimetype": "text/x-python",
   "name": "python",
   "nbconvert_exporter": "python",
   "pygments_lexer": "ipython3",
   "version": "3.13.5"
  }
 },
 "nbformat": 4,
 "nbformat_minor": 5
}
